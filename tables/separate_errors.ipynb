{
 "cells": [
  {
   "cell_type": "code",
   "execution_count": 1,
   "metadata": {},
   "outputs": [
    {
     "name": "stderr",
     "output_type": "stream",
     "text": [
      "<>:10: SyntaxWarning: invalid escape sequence '\\['\n",
      "<>:10: SyntaxWarning: invalid escape sequence '\\['\n",
      "/tmp/ipykernel_37751/2549876879.py:10: SyntaxWarning: invalid escape sequence '\\['\n",
      "  mask_with_errors = df.apply(lambda row: row.astype(str).str.contains('\\[Error\\]').any(), axis=1)\n"
     ]
    }
   ],
   "source": [
    "import pandas as pd\n",
    "\n",
    "combined_csv = 'combined_results.csv'\n",
    "\n",
    "no_erros = 'no_errors.csv'\n",
    "with_errors = 'with_errors.csv'\n",
    "\n",
    "df = pd.read_csv(combined_csv)\n",
    "\n",
    "mask_with_errors = df.apply(lambda row: row.astype(str).str.contains('\\[Error\\]').any(), axis=1)\n",
    "mask_no_errors = ~mask_with_errors\n"
   ]
  },
  {
   "cell_type": "code",
   "execution_count": 3,
   "metadata": {},
   "outputs": [],
   "source": [
    "df_with_errors = df[mask_with_errors]\n",
    "df_no_errors = df[mask_no_errors]\n",
    "\n",
    "df_with_errors.to_csv(with_errors, index=False)\n",
    "df_no_errors.to_csv(no_erros, index=False)"
   ]
  },
  {
   "cell_type": "code",
   "execution_count": null,
   "metadata": {},
   "outputs": [],
   "source": []
  }
 ],
 "metadata": {
  "kernelspec": {
   "display_name": ".venv",
   "language": "python",
   "name": "python3"
  },
  "language_info": {
   "codemirror_mode": {
    "name": "ipython",
    "version": 3
   },
   "file_extension": ".py",
   "mimetype": "text/x-python",
   "name": "python",
   "nbconvert_exporter": "python",
   "pygments_lexer": "ipython3",
   "version": "3.13.1"
  }
 },
 "nbformat": 4,
 "nbformat_minor": 2
}
