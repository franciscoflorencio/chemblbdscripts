{
 "cells": [
  {
   "cell_type": "code",
   "execution_count": 9,
   "metadata": {},
   "outputs": [],
   "source": [
    "import pandas as pd\n",
    "from rdkit import Chem\n",
    "\n",
    "df = pd.read_csv('smiles_filtrado.txt', sep='\\s+', header=None)"
   ]
  },
  {
   "cell_type": "code",
   "execution_count": 18,
   "metadata": {},
   "outputs": [],
   "source": [
    "df['molecula'] = df[0].map(lambda x: Chem.MolFromSmiles(x, sanitize=True))\n"
   ]
  },
  {
   "cell_type": "code",
   "execution_count": 20,
   "metadata": {},
   "outputs": [],
   "source": [
    "df['molecula2'] = df['molecula'].map(lambda x: Chem.MolToSmiles(x))"
   ]
  },
  {
   "cell_type": "code",
   "execution_count": 22,
   "metadata": {},
   "outputs": [
    {
     "data": {
      "text/html": [
       "<div>\n",
       "<style scoped>\n",
       "    .dataframe tbody tr th:only-of-type {\n",
       "        vertical-align: middle;\n",
       "    }\n",
       "\n",
       "    .dataframe tbody tr th {\n",
       "        vertical-align: top;\n",
       "    }\n",
       "\n",
       "    .dataframe thead th {\n",
       "        text-align: right;\n",
       "    }\n",
       "</style>\n",
       "<table border=\"1\" class=\"dataframe\">\n",
       "  <thead>\n",
       "    <tr style=\"text-align: right;\">\n",
       "      <th></th>\n",
       "      <th>0</th>\n",
       "      <th>molecula</th>\n",
       "      <th>molecula2</th>\n",
       "    </tr>\n",
       "  </thead>\n",
       "  <tbody>\n",
       "    <tr>\n",
       "      <th>0</th>\n",
       "      <td>NC(=S)c1ncn(C2O[C@H](COS(N)(=O)=O)[C@@H](O)[C@...</td>\n",
       "      <td>&lt;rdkit.Chem.rdchem.Mol object at 0x7f95c5316f10&gt;</td>\n",
       "      <td>NC(=S)c1ncn(C2O[C@H](COS(N)(=O)=O)[C@@H](O)[C@...</td>\n",
       "    </tr>\n",
       "    <tr>\n",
       "      <th>1</th>\n",
       "      <td>COc1ccc2nc3cc(Cl)ccc3c(NCCCCN(CCCNc3c4ccc(Cl)c...</td>\n",
       "      <td>&lt;rdkit.Chem.rdchem.Mol object at 0x7f95c5317d10&gt;</td>\n",
       "      <td>COc1ccc2nc3cc(Cl)ccc3c(NCCCCN(CCCNc3c4ccc(Cl)c...</td>\n",
       "    </tr>\n",
       "    <tr>\n",
       "      <th>2</th>\n",
       "      <td>COc1ccc2nc3cc(Cl)ccc3c(NCCCN(CCCNc3c4ccc(Cl)cc...</td>\n",
       "      <td>&lt;rdkit.Chem.rdchem.Mol object at 0x7f95c5317b50&gt;</td>\n",
       "      <td>COc1ccc2nc3cc(Cl)ccc3c(NCCCN(CCCNc3c4ccc(Cl)cc...</td>\n",
       "    </tr>\n",
       "    <tr>\n",
       "      <th>3</th>\n",
       "      <td>COc1ccc2nc3cc(Cl)ccc3c(NCCCCCCCCCCNc3c4ccc(Cl)...</td>\n",
       "      <td>&lt;rdkit.Chem.rdchem.Mol object at 0x7f95c5316f80&gt;</td>\n",
       "      <td>COc1ccc2nc3cc(Cl)ccc3c(NCCCCCCCCCCNc3c4ccc(Cl)...</td>\n",
       "    </tr>\n",
       "    <tr>\n",
       "      <th>4</th>\n",
       "      <td>COc1ccc2nc3cc(Cl)ccc3c(NCCCN(CCCNc3c4ccc(Cl)cc...</td>\n",
       "      <td>&lt;rdkit.Chem.rdchem.Mol object at 0x7f95c5316ea0&gt;</td>\n",
       "      <td>COc1ccc2nc3cc(Cl)ccc3c(NCCCN(CCCNc3c4ccc(Cl)cc...</td>\n",
       "    </tr>\n",
       "    <tr>\n",
       "      <th>...</th>\n",
       "      <td>...</td>\n",
       "      <td>...</td>\n",
       "      <td>...</td>\n",
       "    </tr>\n",
       "    <tr>\n",
       "      <th>101403</th>\n",
       "      <td>O=C(O)CCCCC(=O)OC12CCCCC1C1CCCCC1(O)OO2</td>\n",
       "      <td>&lt;rdkit.Chem.rdchem.Mol object at 0x7f95c47f7df0&gt;</td>\n",
       "      <td>O=C(O)CCCCC(=O)OC12CCCCC1C1CCCCC1(O)OO2</td>\n",
       "    </tr>\n",
       "    <tr>\n",
       "      <th>101404</th>\n",
       "      <td>OC12CCCCC1C1CCCCC1(O)OO2</td>\n",
       "      <td>&lt;rdkit.Chem.rdchem.Mol object at 0x7f95c47f7e60&gt;</td>\n",
       "      <td>OC12CCCCC1C1CCCCC1(O)OO2</td>\n",
       "    </tr>\n",
       "    <tr>\n",
       "      <th>101405</th>\n",
       "      <td>CC1CCCC2C3CCCC(C)C3(O)OOC12O</td>\n",
       "      <td>&lt;rdkit.Chem.rdchem.Mol object at 0x7f95c47f7ed0&gt;</td>\n",
       "      <td>CC1CCCC2C3CCCC(C)C3(O)OOC12O</td>\n",
       "    </tr>\n",
       "    <tr>\n",
       "      <th>101406</th>\n",
       "      <td>COC12CCCCC1C1CCCCC1(O)OO2</td>\n",
       "      <td>&lt;rdkit.Chem.rdchem.Mol object at 0x7f95c47f7f40&gt;</td>\n",
       "      <td>COC12CCCCC1C1CCCCC1(O)OO2</td>\n",
       "    </tr>\n",
       "    <tr>\n",
       "      <th>101407</th>\n",
       "      <td>O=C(O)CCCC(=O)OC12CCCCC1C1CCCCC1(O)OO2</td>\n",
       "      <td>&lt;rdkit.Chem.rdchem.Mol object at 0x7f95c47f8040&gt;</td>\n",
       "      <td>O=C(O)CCCC(=O)OC12CCCCC1C1CCCCC1(O)OO2</td>\n",
       "    </tr>\n",
       "  </tbody>\n",
       "</table>\n",
       "<p>101408 rows × 3 columns</p>\n",
       "</div>"
      ],
      "text/plain": [
       "                                                        0  \\\n",
       "0       NC(=S)c1ncn(C2O[C@H](COS(N)(=O)=O)[C@@H](O)[C@...   \n",
       "1       COc1ccc2nc3cc(Cl)ccc3c(NCCCCN(CCCNc3c4ccc(Cl)c...   \n",
       "2       COc1ccc2nc3cc(Cl)ccc3c(NCCCN(CCCNc3c4ccc(Cl)cc...   \n",
       "3       COc1ccc2nc3cc(Cl)ccc3c(NCCCCCCCCCCNc3c4ccc(Cl)...   \n",
       "4       COc1ccc2nc3cc(Cl)ccc3c(NCCCN(CCCNc3c4ccc(Cl)cc...   \n",
       "...                                                   ...   \n",
       "101403            O=C(O)CCCCC(=O)OC12CCCCC1C1CCCCC1(O)OO2   \n",
       "101404                           OC12CCCCC1C1CCCCC1(O)OO2   \n",
       "101405                       CC1CCCC2C3CCCC(C)C3(O)OOC12O   \n",
       "101406                          COC12CCCCC1C1CCCCC1(O)OO2   \n",
       "101407             O=C(O)CCCC(=O)OC12CCCCC1C1CCCCC1(O)OO2   \n",
       "\n",
       "                                                molecula  \\\n",
       "0       <rdkit.Chem.rdchem.Mol object at 0x7f95c5316f10>   \n",
       "1       <rdkit.Chem.rdchem.Mol object at 0x7f95c5317d10>   \n",
       "2       <rdkit.Chem.rdchem.Mol object at 0x7f95c5317b50>   \n",
       "3       <rdkit.Chem.rdchem.Mol object at 0x7f95c5316f80>   \n",
       "4       <rdkit.Chem.rdchem.Mol object at 0x7f95c5316ea0>   \n",
       "...                                                  ...   \n",
       "101403  <rdkit.Chem.rdchem.Mol object at 0x7f95c47f7df0>   \n",
       "101404  <rdkit.Chem.rdchem.Mol object at 0x7f95c47f7e60>   \n",
       "101405  <rdkit.Chem.rdchem.Mol object at 0x7f95c47f7ed0>   \n",
       "101406  <rdkit.Chem.rdchem.Mol object at 0x7f95c47f7f40>   \n",
       "101407  <rdkit.Chem.rdchem.Mol object at 0x7f95c47f8040>   \n",
       "\n",
       "                                                molecula2  \n",
       "0       NC(=S)c1ncn(C2O[C@H](COS(N)(=O)=O)[C@@H](O)[C@...  \n",
       "1       COc1ccc2nc3cc(Cl)ccc3c(NCCCCN(CCCNc3c4ccc(Cl)c...  \n",
       "2       COc1ccc2nc3cc(Cl)ccc3c(NCCCN(CCCNc3c4ccc(Cl)cc...  \n",
       "3       COc1ccc2nc3cc(Cl)ccc3c(NCCCCCCCCCCNc3c4ccc(Cl)...  \n",
       "4       COc1ccc2nc3cc(Cl)ccc3c(NCCCN(CCCNc3c4ccc(Cl)cc...  \n",
       "...                                                   ...  \n",
       "101403            O=C(O)CCCCC(=O)OC12CCCCC1C1CCCCC1(O)OO2  \n",
       "101404                           OC12CCCCC1C1CCCCC1(O)OO2  \n",
       "101405                       CC1CCCC2C3CCCC(C)C3(O)OOC12O  \n",
       "101406                          COC12CCCCC1C1CCCCC1(O)OO2  \n",
       "101407             O=C(O)CCCC(=O)OC12CCCCC1C1CCCCC1(O)OO2  \n",
       "\n",
       "[101408 rows x 3 columns]"
      ]
     },
     "execution_count": 22,
     "metadata": {},
     "output_type": "execute_result"
    }
   ],
   "source": [
    "df.drop_duplicates(subset='molecula2').reset_index(drop=True)"
   ]
  },
  {
   "cell_type": "code",
   "execution_count": 23,
   "metadata": {},
   "outputs": [],
   "source": [
    "df.to_csv('brabo.csv', index=False)"
   ]
  },
  {
   "cell_type": "code",
   "execution_count": null,
   "metadata": {},
   "outputs": [],
   "source": []
  }
 ],
 "metadata": {
  "kernelspec": {
   "display_name": ".venv",
   "language": "python",
   "name": "python3"
  },
  "language_info": {
   "codemirror_mode": {
    "name": "ipython",
    "version": 3
   },
   "file_extension": ".py",
   "mimetype": "text/x-python",
   "name": "python",
   "nbconvert_exporter": "python",
   "pygments_lexer": "ipython3",
   "version": "3.11.2"
  }
 },
 "nbformat": 4,
 "nbformat_minor": 2
}
